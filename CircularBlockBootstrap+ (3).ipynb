{
 "cells": [
  {
   "cell_type": "markdown",
   "metadata": {},
   "source": [
    "# Overview"
   ]
  },
  {
   "cell_type": "markdown",
   "metadata": {},
   "source": [
    "The code presented below was used to calculate 95% confidence intervals around Cumulative Incidence Functions for using Stata's stcurve command for a competing risks estimation regression (stcrreg).  \n",
    "\n",
    "Figure 1 in our paper shows two CIFs -- one with 0 UN Troops and one with ~10,000 UN Troops. To produce first differences in these curves we employ a bootstrap approach. \n",
    "\n",
    "Namely, in this approach we follow Jacob Aronson's advice to:\n",
    "\n",
    ">\"Re-sample the data, produce predictions for the values you want to compare and compute the first difference. In the case of a CR model, predict the CIF for the two different values of the variable and take the difference.\"\n",
    "\n",
    "Given that we have clustered time series data, we need to use a *block bootstrap*. Below we present the Python and Stata code we used to generate the first differences shown produce Figure 2.\n",
    "\n"
   ]
  },
  {
   "cell_type": "markdown",
   "metadata": {},
   "source": [
    "##### Brief overview of algorithm"
   ]
  },
  {
   "cell_type": "markdown",
   "metadata": {},
   "source": [
    "Because *stcurve* has no confidence intervals in Stata, we need to generate these intervals using a bootstrap technique. Moreover, because we are dealing with time series data, we need to employ a *block bootstrapping* procedure. Because there are no block bootstrapping capabilities in Stata, we generated 1,000 block bootstrap samples in Python, then wrote a loop in Stata to run our *stcrreg* and *stcurve* code 1,000 times -- in each loop we run our regression code (*stcrreg*) and calculate the CIF curves via the *stcurve* command and save the *stcurve* output. We then used Python to aggregate the 1,000 output files and generate the graph now shown in the paper as Figure 2."
   ]
  },
  {
   "cell_type": "markdown",
   "metadata": {},
   "source": [
    "# Import Python Packages"
   ]
  },
  {
   "cell_type": "markdown",
   "metadata": {},
   "source": [
    "First, we will import several necessary Python packages. We will be using the <a href=\"http://pandas.pydata.org/\">Python Data Analysis Library,</a> or <i>PANDAS</i>, extensively for our data manipulations. It is invaluable for analyzing datasets. "
   ]
  },
  {
   "cell_type": "code",
   "execution_count": 1,
   "metadata": {
    "collapsed": true
   },
   "outputs": [],
   "source": [
    "import numpy as np\n",
    "import pandas as pd\n",
    "from pandas import DataFrame\n",
    "from pandas import Series"
   ]
  },
  {
   "cell_type": "code",
   "execution_count": 2,
   "metadata": {
    "collapsed": true
   },
   "outputs": [],
   "source": [
    "# http://pandas.pydata.org/pandas-docs/stable/options.html\n",
    "pd.set_option('display.max_columns', None)\n",
    "# http://pandas.pydata.org/pandas-docs/stable/options.html\n",
    "pd.set_option('display.max_colwidth', 250)"
   ]
  },
  {
   "cell_type": "markdown",
   "metadata": {},
   "source": [
    "<br>Set working directory"
   ]
  },
  {
   "cell_type": "code",
   "execution_count": 1,
   "metadata": {},
   "outputs": [],
   "source": [
    "cd '/Users/mbenson2/Downloads/'"
   ]
  },
  {
   "cell_type": "markdown",
   "metadata": {},
   "source": [
    "# Read in Stata Dataset\n",
    "Here we read in a version of our dataset that is generated via the *e(sample)==1* procedure in *Stata* after running the following *stcrreg* regression for Table 2, Model 1."
   ]
  },
  {
   "cell_type": "markdown",
   "metadata": {},
   "source": [
    "~~~html\n",
    "gen dyadterm_PA_CF = 0\n",
    "replace dyadterm_PA_CF = 1 if dyadterm == 1 & (outcome == 1 | outcome == 2)\n",
    "replace dyadterm_PA_CF = 2 if dyadterm == 1 & (outcome == 3 | outcome == 4  | outcome == 5 | outcome == 6)\n",
    "stset warduration, failure(dyadterm_PA_CF==1) id(dyadep)\n",
    "\n",
    "*Table 2, Model 1\n",
    "stcrreg lntroopLag lnpoliceLag lnmilitaryobserversLag lnbrv_civAggLag lnbrv_abAggLag lntpop contestnumber rebstrength numofrebgroups_gwnoaLag incompatibility demdum biased_rebintervLag biased_govintervLag if (regionAfr==1 | regionME == 1 | regionAsia==1), compete(dyadterm_PA_CF==2) cl(gwnoa) nohr\n",
    "\n",
    "keep if e(sample)==1\n",
    "~~~"
   ]
  },
  {
   "cell_type": "code",
   "execution_count": 146,
   "metadata": {},
   "outputs": [
    {
     "name": "stdout",
     "output_type": "stream",
     "text": [
      "# of columns: 17\n",
      "# of observations: 7782\n"
     ]
    },
    {
     "data": {
      "text/html": [
       "<div>\n",
       "<style scoped>\n",
       "    .dataframe tbody tr th:only-of-type {\n",
       "        vertical-align: middle;\n",
       "    }\n",
       "\n",
       "    .dataframe tbody tr th {\n",
       "        vertical-align: top;\n",
       "    }\n",
       "\n",
       "    .dataframe thead th {\n",
       "        text-align: right;\n",
       "    }\n",
       "</style>\n",
       "<table border=\"1\" class=\"dataframe\">\n",
       "  <thead>\n",
       "    <tr style=\"text-align: right;\">\n",
       "      <th></th>\n",
       "      <th>warduration</th>\n",
       "      <th>dyadterm_PA_CF</th>\n",
       "      <th>dyadep</th>\n",
       "      <th>lntroopLag</th>\n",
       "      <th>lnpoliceLag</th>\n",
       "      <th>lnmilitaryobserversLag</th>\n",
       "      <th>lnbrv_civAggLag</th>\n",
       "      <th>lnbrv_abAggLag</th>\n",
       "      <th>lntpop</th>\n",
       "      <th>contestnumber</th>\n",
       "      <th>rebstrength</th>\n",
       "      <th>numofrebgroups_gwnoaLag</th>\n",
       "      <th>incompatibility</th>\n",
       "      <th>demdum</th>\n",
       "      <th>biased_rebintervLag</th>\n",
       "      <th>biased_govintervLag</th>\n",
       "      <th>gwnoa</th>\n",
       "    </tr>\n",
       "  </thead>\n",
       "  <tbody>\n",
       "    <tr>\n",
       "      <th>0</th>\n",
       "      <td>7</td>\n",
       "      <td>0</td>\n",
       "      <td>101</td>\n",
       "      <td>0.0</td>\n",
       "      <td>0.0</td>\n",
       "      <td>0.0</td>\n",
       "      <td>0.693147</td>\n",
       "      <td>4.356709</td>\n",
       "      <td>10.176259</td>\n",
       "      <td>1</td>\n",
       "      <td>2.0</td>\n",
       "      <td>2.0</td>\n",
       "      <td>2</td>\n",
       "      <td>0</td>\n",
       "      <td>0.0</td>\n",
       "      <td>0.0</td>\n",
       "      <td>615</td>\n",
       "    </tr>\n",
       "    <tr>\n",
       "      <th>1</th>\n",
       "      <td>8</td>\n",
       "      <td>0</td>\n",
       "      <td>101</td>\n",
       "      <td>0.0</td>\n",
       "      <td>0.0</td>\n",
       "      <td>0.0</td>\n",
       "      <td>1.098612</td>\n",
       "      <td>4.634729</td>\n",
       "      <td>10.176259</td>\n",
       "      <td>1</td>\n",
       "      <td>2.0</td>\n",
       "      <td>2.0</td>\n",
       "      <td>2</td>\n",
       "      <td>0</td>\n",
       "      <td>0.0</td>\n",
       "      <td>0.0</td>\n",
       "      <td>615</td>\n",
       "    </tr>\n",
       "  </tbody>\n",
       "</table>\n",
       "</div>"
      ],
      "text/plain": [
       "   warduration  dyadterm_PA_CF  dyadep  lntroopLag  lnpoliceLag  \\\n",
       "0            7               0     101         0.0          0.0   \n",
       "1            8               0     101         0.0          0.0   \n",
       "\n",
       "   lnmilitaryobserversLag  lnbrv_civAggLag  lnbrv_abAggLag     lntpop  \\\n",
       "0                     0.0         0.693147        4.356709  10.176259   \n",
       "1                     0.0         1.098612        4.634729  10.176259   \n",
       "\n",
       "   contestnumber  rebstrength  numofrebgroups_gwnoaLag  incompatibility  \\\n",
       "0              1          2.0                      2.0                2   \n",
       "1              1          2.0                      2.0                2   \n",
       "\n",
       "   demdum  biased_rebintervLag  biased_govintervLag  gwnoa  \n",
       "0       0                  0.0                  0.0    615  \n",
       "1       0                  0.0                  0.0    615  "
      ]
     },
     "execution_count": 146,
     "metadata": {},
     "output_type": "execute_result"
    }
   ],
   "source": [
    "df = pd.read_csv('JCR_no_missing.csv')\n",
    "print '# of columns:', len(df.columns)\n",
    "print '# of observations:', len(df)\n",
    "df[:2]"
   ]
  },
  {
   "cell_type": "markdown",
   "metadata": {},
   "source": [
    "# Create 1,000 Bootstrap Samples\n",
    "The following code block re-samples the data 1,000 times using a block bootstrapping procedure. Here we are using *circular block* bootstrapping procedure with block length of 19. The 1,000 files are saved in *Stata* format to a chosen directory."
   ]
  },
  {
   "cell_type": "code",
   "execution_count": 148,
   "metadata": {
    "collapsed": true
   },
   "outputs": [],
   "source": [
    "from arch.bootstrap import CircularBlockBootstrap\n",
    "bs = CircularBlockBootstrap(19, df)\n",
    "counter = 0\n",
    "for data in bs.bootstrap(1000):\n",
    "    counter +=1\n",
    "    dfb = data[0][0]\n",
    "    dfb = dfb.reset_index()\n",
    "    dfb = dfb.groupby('index').first()\n",
    "    dfb.to_stata('JCR_bootstrap/bs%s.dta' % counter)"
   ]
  },
  {
   "cell_type": "markdown",
   "metadata": {},
   "source": [
    "# Go to Stata and Run *stcrreg* and *stcurve* Code\n",
    "In Stata we are now going to loop over the 1,000 bootstrap datasets saved in the previous step. First, install *filelist* if needed."
   ]
  },
  {
   "cell_type": "markdown",
   "metadata": {},
   "source": [
    "~~~html\n",
    "ssc install filelist\n",
    "\n",
    "~~~"
   ]
  },
  {
   "cell_type": "markdown",
   "metadata": {},
   "source": [
    "<br>Now, run the following line in Stata to search for all <i>*.dta</i> files in your *JCR_bootstrap* directory and save the output to disk."
   ]
  },
  {
   "cell_type": "markdown",
   "metadata": {},
   "source": [
    "~~~html\n",
    "filelist , dir(\"/Users/mbenson2/Downloads/JCR_bootstrap\") pat(\"*.dta\") save(\"/Users/mbenson2/Downloads/dta_datasets.dta\")\n",
    "\n",
    "~~~"
   ]
  },
  {
   "cell_type": "markdown",
   "metadata": {},
   "source": [
    "<br>\n",
    "Now we can run our core loop. In the following *Stata* code we are looping over the 1,000 files in turn. For each one, we apply *stset*, we run our *stcrreg* command following by *stcurve*, which plots the two chosen CIFs. At the same time, we save the data generated by *stcurve* to an outfile with names *df1.dta* to *df1000.dta*"
   ]
  },
  {
   "cell_type": "markdown",
   "metadata": {},
   "source": [
    "~~~html\n",
    "\n",
    "forvalues i=1/1000{\n",
    "    use \"/Users/mbenson2/Downloads/dta_datasets.dta\" in `i', clear\n",
    "    local f = dirname + \"/\" + filename\n",
    "    *insheet using \"`f'\", clear\n",
    "\tuse \"`f'\", clear\n",
    "    \n",
    "\tstset warduration, failure(dyadterm_PA_CF==1) id(dyadep)\n",
    "    \n",
    "    quietly stcrreg lntroopLag lnpoliceLag lnmilitaryobserversLag lnbrv_civAggLag lnbrv_abAggLag lntpop contestnumber rebstrength numofrebgroups_gwnoaLag incompatibility demdum biased_rebintervLag biased_govintervLag, compete(dyadterm_PA_CF==2) cl(gwnoa) nohr\n",
    "    \n",
    "    gen source = \"`f'\"\n",
    "    tempfile save`i' \n",
    "    save \"`save`i''\"\n",
    "\n",
    "    stcurve, cif at1(lntroopLag=0 lnpoliceLag=.415 lnmilitaryobserversLag=.449 lnbrv_civAggLag=3.029 lnbrv_abAggLag=5.697 lntpop=10.611 contestnumber=1 rebstrength=2 numofrebgroups_gwnoaLag=7 incompatibility=2 demdum=0 biased_rebintervLag=0 biased_govintervLag=0) at2(lntroopLag=9.2 lnpoliceLag=.415 lnmilitaryobserversLag=.449 lnbrv_civAggLag=3.029 lnbrv_abAggLag=5.697 lntpop=10.611 contestnumber=1 rebstrength=2 numofrebgroups_gwnoaLag=7 incompatibility=2 demdum=0 biased_rebintervLag=0 biased_govintervLag=0) title(\"\") xtitle(\"\") ytitle(\"\") xlabel(0(20)100) range(0 100) xscale(range(0 100) noextend)  legend(label(1 \"UN Troops (ln)=0\") label(2 \"UN Troops (ln)=9.2 (ie ~10,000 troops)\")) outfile(\"/Users/mbenson2/Downloads/stcurve_saves/df`i'\")\n",
    "    \n",
    " }\n",
    "~~~"
   ]
  },
  {
   "cell_type": "markdown",
   "metadata": {},
   "source": [
    "# Aggregate stcurve Output in Python\n",
    "We have 1,000 datasets saved in our folder *stcurve_saves*. Let's change our working directory to this folder and then read in the first one."
   ]
  },
  {
   "cell_type": "code",
   "execution_count": 2,
   "metadata": {},
   "outputs": [],
   "source": [
    "cd '/Users/mbenson2/Downloads/stcurve_saves'"
   ]
  },
  {
   "cell_type": "code",
   "execution_count": 154,
   "metadata": {},
   "outputs": [
    {
     "name": "stdout",
     "output_type": "stream",
     "text": [
      "# of columns: 3\n",
      "# of observations: 3923\n"
     ]
    },
    {
     "data": {
      "text/html": [
       "<div>\n",
       "<style scoped>\n",
       "    .dataframe tbody tr th:only-of-type {\n",
       "        vertical-align: middle;\n",
       "    }\n",
       "\n",
       "    .dataframe tbody tr th {\n",
       "        vertical-align: top;\n",
       "    }\n",
       "\n",
       "    .dataframe thead th {\n",
       "        text-align: right;\n",
       "    }\n",
       "</style>\n",
       "<table border=\"1\" class=\"dataframe\">\n",
       "  <thead>\n",
       "    <tr style=\"text-align: right;\">\n",
       "      <th></th>\n",
       "      <th>ci2</th>\n",
       "      <th>ci3</th>\n",
       "      <th>_t</th>\n",
       "    </tr>\n",
       "  </thead>\n",
       "  <tbody>\n",
       "    <tr>\n",
       "      <th>0</th>\n",
       "      <td>0.007575</td>\n",
       "      <td>0.088778</td>\n",
       "      <td>1</td>\n",
       "    </tr>\n",
       "    <tr>\n",
       "      <th>1</th>\n",
       "      <td>0.007575</td>\n",
       "      <td>0.088778</td>\n",
       "      <td>1</td>\n",
       "    </tr>\n",
       "    <tr>\n",
       "      <th>2</th>\n",
       "      <td>0.007575</td>\n",
       "      <td>0.088778</td>\n",
       "      <td>1</td>\n",
       "    </tr>\n",
       "    <tr>\n",
       "      <th>3</th>\n",
       "      <td>0.007575</td>\n",
       "      <td>0.088778</td>\n",
       "      <td>1</td>\n",
       "    </tr>\n",
       "    <tr>\n",
       "      <th>4</th>\n",
       "      <td>0.007575</td>\n",
       "      <td>0.088778</td>\n",
       "      <td>1</td>\n",
       "    </tr>\n",
       "  </tbody>\n",
       "</table>\n",
       "</div>"
      ],
      "text/plain": [
       "        ci2       ci3  _t\n",
       "0  0.007575  0.088778   1\n",
       "1  0.007575  0.088778   1\n",
       "2  0.007575  0.088778   1\n",
       "3  0.007575  0.088778   1\n",
       "4  0.007575  0.088778   1"
      ]
     },
     "execution_count": 154,
     "metadata": {},
     "output_type": "execute_result"
    }
   ],
   "source": [
    "dfo = pd.read_stata('df1.dta')\n",
    "print '# of columns:', len(dfo.columns)\n",
    "print '# of observations:', len(dfo)\n",
    "dfo[:5]"
   ]
  },
  {
   "cell_type": "markdown",
   "metadata": {},
   "source": [
    "<br>\n",
    "*stcurve* generates a graph based on 100 unique observations ranging from t0 to t100. The output file, however, has many duplicates, as you can see with the first five observations for t1. We only need the first observation at each of the 100 time points. We will get rid of the duplicate observations using the following code block. At the same time, we will also create a new column that is the difference between the CIF values at each of the 100 time points."
   ]
  },
  {
   "cell_type": "code",
   "execution_count": 155,
   "metadata": {},
   "outputs": [
    {
     "name": "stdout",
     "output_type": "stream",
     "text": [
      "100\n",
      "# of observations: 100\n"
     ]
    },
    {
     "data": {
      "text/html": [
       "<div>\n",
       "<style scoped>\n",
       "    .dataframe tbody tr th:only-of-type {\n",
       "        vertical-align: middle;\n",
       "    }\n",
       "\n",
       "    .dataframe tbody tr th {\n",
       "        vertical-align: top;\n",
       "    }\n",
       "\n",
       "    .dataframe thead th {\n",
       "        text-align: right;\n",
       "    }\n",
       "</style>\n",
       "<table border=\"1\" class=\"dataframe\">\n",
       "  <thead>\n",
       "    <tr style=\"text-align: right;\">\n",
       "      <th></th>\n",
       "      <th>ci3</th>\n",
       "      <th>ci2</th>\n",
       "      <th>diff</th>\n",
       "    </tr>\n",
       "    <tr>\n",
       "      <th>_t</th>\n",
       "      <th></th>\n",
       "      <th></th>\n",
       "      <th></th>\n",
       "    </tr>\n",
       "  </thead>\n",
       "  <tbody>\n",
       "    <tr>\n",
       "      <th>1</th>\n",
       "      <td>0.088778</td>\n",
       "      <td>0.007575</td>\n",
       "      <td>0.081204</td>\n",
       "    </tr>\n",
       "    <tr>\n",
       "      <th>2</th>\n",
       "      <td>0.299922</td>\n",
       "      <td>0.028740</td>\n",
       "      <td>0.271182</td>\n",
       "    </tr>\n",
       "  </tbody>\n",
       "</table>\n",
       "</div>"
      ],
      "text/plain": [
       "         ci3       ci2      diff\n",
       "_t                              \n",
       "1   0.088778  0.007575  0.081204\n",
       "2   0.299922  0.028740  0.271182"
      ]
     },
     "execution_count": 155,
     "metadata": {},
     "output_type": "execute_result"
    }
   ],
   "source": [
    "dfo = dfo.groupby('_t').agg({'ci2': {'ci2': 'first'},'ci3': {'ci3': 'first'}})\n",
    "print len(dfo)\n",
    "dfo.columns = dfo.columns.droplevel(0)\n",
    "dfo['diff'] = dfo['ci3'] - dfo['ci2']\n",
    "print '# of observations:', len(dfo)\n",
    "dfo[:2]"
   ]
  },
  {
   "cell_type": "markdown",
   "metadata": {},
   "source": [
    "<br>Now we will loop over the remaining 999 *stcurve* outfiles. For each one, we will drop duplicate values, create our *diff* column, and then append the file to the end of our dataframe *dfo*. We end up a dataset with 100,000 observations, which represents the 100 CIF time points (t1 to t100) for our 1,000 bootstrap samples."
   ]
  },
  {
   "cell_type": "code",
   "execution_count": 157,
   "metadata": {},
   "outputs": [
    {
     "name": "stdout",
     "output_type": "stream",
     "text": [
      "100000\n"
     ]
    },
    {
     "data": {
      "text/html": [
       "<div>\n",
       "<style scoped>\n",
       "    .dataframe tbody tr th:only-of-type {\n",
       "        vertical-align: middle;\n",
       "    }\n",
       "\n",
       "    .dataframe tbody tr th {\n",
       "        vertical-align: top;\n",
       "    }\n",
       "\n",
       "    .dataframe thead th {\n",
       "        text-align: right;\n",
       "    }\n",
       "</style>\n",
       "<table border=\"1\" class=\"dataframe\">\n",
       "  <thead>\n",
       "    <tr style=\"text-align: right;\">\n",
       "      <th></th>\n",
       "      <th>_t</th>\n",
       "      <th>ci3</th>\n",
       "      <th>ci2</th>\n",
       "      <th>diff</th>\n",
       "    </tr>\n",
       "  </thead>\n",
       "  <tbody>\n",
       "    <tr>\n",
       "      <th>0</th>\n",
       "      <td>1</td>\n",
       "      <td>0.088778</td>\n",
       "      <td>0.007575</td>\n",
       "      <td>0.081204</td>\n",
       "    </tr>\n",
       "    <tr>\n",
       "      <th>1</th>\n",
       "      <td>2</td>\n",
       "      <td>0.299922</td>\n",
       "      <td>0.028740</td>\n",
       "      <td>0.271182</td>\n",
       "    </tr>\n",
       "  </tbody>\n",
       "</table>\n",
       "</div>"
      ],
      "text/plain": [
       "   _t       ci3       ci2      diff\n",
       "0   1  0.088778  0.007575  0.081204\n",
       "1   2  0.299922  0.028740  0.271182"
      ]
     },
     "execution_count": 157,
     "metadata": {},
     "output_type": "execute_result"
    }
   ],
   "source": [
    "for x in range(1,1000,1):\n",
    "    #print x\n",
    "    df = pd.read_stata('df%s.dta' % x)\n",
    "    #print len(df)\n",
    "    df = df.groupby('_t').agg({'ci2': {'ci2': 'first'},'ci3': {'ci3': 'first'}})\n",
    "    df.columns = df.columns.droplevel(0)\n",
    "    df['diff'] = df['ci3'] - df['ci2']\n",
    "    #print len(df)\n",
    "    dfo = dfo.append(df)\n",
    "    #print len(dfo)\n",
    "\n",
    "print len(dfo)\n",
    "dfo = dfo.reset_index()\n",
    "dfo[:2]"
   ]
  },
  {
   "cell_type": "markdown",
   "metadata": {},
   "source": [
    "### Collapse the Data\n",
    "We will now collapse the above data -- for each of the 100 time points we will generate the mean value and the standard deviation for the first difference. First, in the following block of code, we create a 'dictionary' of aggregation operations."
   ]
  },
  {
   "cell_type": "code",
   "execution_count": 159,
   "metadata": {
    "collapsed": true
   },
   "outputs": [],
   "source": [
    "# CREATE DICTIONARY OF AGGREGATION OPERATIONS\n",
    "aggregations = {\n",
    "    'ci2': {'ci2_mean': 'mean', 'ci2_std': 'std'},\n",
    "    'ci3': {'ci3_mean': 'mean', 'ci3_std': 'std'},\n",
    "    'diff': {'diff_mean': 'mean', 'diff_std': 'std'},    \n",
    "    }"
   ]
  },
  {
   "cell_type": "markdown",
   "metadata": {},
   "source": [
    "<br>Then in the following code block we collapse our dataframe *dfo*, in the process applying the above-specified *mean* and *standard deviation* aggregations and also creating columns indicating the upper and lower bounds of the 95% confidence interval of the first differences."
   ]
  },
  {
   "cell_type": "code",
   "execution_count": 160,
   "metadata": {},
   "outputs": [
    {
     "name": "stdout",
     "output_type": "stream",
     "text": [
      "100\n",
      "# of observations: 100\n"
     ]
    },
    {
     "data": {
      "text/html": [
       "<div>\n",
       "<style scoped>\n",
       "    .dataframe tbody tr th:only-of-type {\n",
       "        vertical-align: middle;\n",
       "    }\n",
       "\n",
       "    .dataframe tbody tr th {\n",
       "        vertical-align: top;\n",
       "    }\n",
       "\n",
       "    .dataframe thead th {\n",
       "        text-align: right;\n",
       "    }\n",
       "</style>\n",
       "<table border=\"1\" class=\"dataframe\">\n",
       "  <thead>\n",
       "    <tr style=\"text-align: right;\">\n",
       "      <th></th>\n",
       "      <th>ci3_mean</th>\n",
       "      <th>ci3_std</th>\n",
       "      <th>ci2_mean</th>\n",
       "      <th>ci2_std</th>\n",
       "      <th>diff_mean</th>\n",
       "      <th>diff_std</th>\n",
       "      <th>ci_upper</th>\n",
       "      <th>ci_lower</th>\n",
       "    </tr>\n",
       "    <tr>\n",
       "      <th>_t</th>\n",
       "      <th></th>\n",
       "      <th></th>\n",
       "      <th></th>\n",
       "      <th></th>\n",
       "      <th></th>\n",
       "      <th></th>\n",
       "      <th></th>\n",
       "      <th></th>\n",
       "    </tr>\n",
       "  </thead>\n",
       "  <tbody>\n",
       "    <tr>\n",
       "      <th>1</th>\n",
       "      <td>0.089330</td>\n",
       "      <td>0.113137</td>\n",
       "      <td>0.007564</td>\n",
       "      <td>0.00367</td>\n",
       "      <td>0.081766</td>\n",
       "      <td>0.112292</td>\n",
       "      <td>0.301858</td>\n",
       "      <td>-0.138325</td>\n",
       "    </tr>\n",
       "    <tr>\n",
       "      <th>2</th>\n",
       "      <td>0.229626</td>\n",
       "      <td>0.181054</td>\n",
       "      <td>0.024249</td>\n",
       "      <td>0.00755</td>\n",
       "      <td>0.205377</td>\n",
       "      <td>0.180680</td>\n",
       "      <td>0.559510</td>\n",
       "      <td>-0.148755</td>\n",
       "    </tr>\n",
       "  </tbody>\n",
       "</table>\n",
       "</div>"
      ],
      "text/plain": [
       "    ci3_mean   ci3_std  ci2_mean  ci2_std  diff_mean  diff_std  ci_upper  \\\n",
       "_t                                                                         \n",
       "1   0.089330  0.113137  0.007564  0.00367   0.081766  0.112292  0.301858   \n",
       "2   0.229626  0.181054  0.024249  0.00755   0.205377  0.180680  0.559510   \n",
       "\n",
       "    ci_lower  \n",
       "_t            \n",
       "1  -0.138325  \n",
       "2  -0.148755  "
      ]
     },
     "execution_count": 160,
     "metadata": {},
     "output_type": "execute_result"
    }
   ],
   "source": [
    "dfx = dfo.groupby('_t').agg(aggregations)\n",
    "print len(dfx)\n",
    "dfx.columns = dfx.columns.droplevel(0)\n",
    "dfx['ci_upper'] = dfx['diff_mean']+1.96*dfx['diff_std']\n",
    "dfx['ci_lower'] = dfx['diff_mean']-1.96*dfx['diff_std']\n",
    "print '# of observations:', len(dfx)\n",
    "dfx[:2]"
   ]
  },
  {
   "cell_type": "markdown",
   "metadata": {},
   "source": [
    "# Plot the First Differences with Confidence Intervals\n",
    "Here we will use Python's built-in plotting capabalities (*matplotlib*) supplemented by the *seaborn* package. The following five code blocks are simply package imports and setting a default plot size."
   ]
  },
  {
   "cell_type": "code",
   "execution_count": 161,
   "metadata": {},
   "outputs": [
    {
     "name": "stdout",
     "output_type": "stream",
     "text": [
      "2.2.2\n"
     ]
    }
   ],
   "source": [
    "import matplotlib\n",
    "print matplotlib.__version__\n",
    "import matplotlib.pyplot as plt\n",
    "#NECESSARY FOR XTICKS OPTION, ETC.\n",
    "from pylab import*"
   ]
  },
  {
   "cell_type": "code",
   "execution_count": 162,
   "metadata": {
    "collapsed": true
   },
   "outputs": [],
   "source": [
    "%matplotlib inline "
   ]
  },
  {
   "cell_type": "code",
   "execution_count": 163,
   "metadata": {},
   "outputs": [
    {
     "name": "stdout",
     "output_type": "stream",
     "text": [
      "0.8.1\n"
     ]
    }
   ],
   "source": [
    "import seaborn as sns\n",
    "print sns.__version__"
   ]
  },
  {
   "cell_type": "code",
   "execution_count": 164,
   "metadata": {
    "collapsed": true
   },
   "outputs": [],
   "source": [
    "plt.rcParams['figure.figsize'] = (15, 7.5)"
   ]
  },
  {
   "cell_type": "code",
   "execution_count": null,
   "metadata": {
    "collapsed": true
   },
   "outputs": [],
   "source": [
    "mpl.style.use('grayscale')\n",
    "sns.set_style(\"whitegrid\")"
   ]
  },
  {
   "cell_type": "markdown",
   "metadata": {},
   "source": [
    "### Generate Plot and Save Output\n",
    "We now generate Figure 2. To recap, this shows the sdifference in expected CIF curves with ~10,000 UN Troops and 0 UN Troops. Specifically, the graph below shows the mean difference in the CIF curves shown in Figure 1, with 95% confidence intervals, based on block bootstrapping with 1,000 tests."
   ]
  },
  {
   "cell_type": "code",
   "execution_count": 169,
   "metadata": {},
   "outputs": [
    {
     "data": {
      "image/png": "[encoded data removed]",
      "text/plain": [
       "<Figure size 1080x540 with 1 Axes>"
      ]
     },
     "metadata": {},
     "output_type": "display_data"
    }
   ],
   "source": [
    "plt.plot(dfx.index, dfx['diff_mean'], linestyle=\"-\", linewidth=1.5, alpha=0.95)\n",
    "plt.plot(dfx.index, dfx['ci_upper'], linestyle=\"--\", linewidth=.5, alpha=0.75)\n",
    "plt.plot(dfx.index, dfx['ci_lower'], linestyle=\"--\", linewidth=.5, alpha=0.75)\n",
    "plt.fill_between(dfx.index, dfx['ci_lower'], dfx['ci_upper'],\n",
    "                alpha=.25, edgecolor='#3F7F4C', facecolor='#DBDBDB',\n",
    "                linewidth=0)\n",
    "plt.xlim(0,100)  #SET X-AXIS RANGE\n",
    "plt.ylim(-.2,)  #SET Y-AXIS RANGE\n",
    "savefig('/Users/mbenson2/Downloads/CIF differences.png', bbox_inches='tight', facecolor = 'white', dpi=600, format='png')\n",
    "plt.show()"
   ]
  }
 ],
 "metadata": {
  "kernelspec": {
   "display_name": "Python [default]",
   "language": "python",
   "name": "python2"
  },
  "language_info": {
   "codemirror_mode": {
    "name": "ipython",
    "version": 2
   },
   "file_extension": ".py",
   "mimetype": "text/x-python",
   "name": "python",
   "nbconvert_exporter": "python",
   "pygments_lexer": "ipython2",
   "version": "2.7.14"
  },
  "toc": {
   "colors": {
    "hover_highlight": "#DAA520",
    "navigate_num": "#000000",
    "navigate_text": "#333333",
    "running_highlight": "#FF0000",
    "selected_highlight": "#FFD700",
    "sidebar_border": "#EEEEEE",
    "wrapper_background": "#FFFFFF"
   },
   "moveMenuLeft": true,
   "nav_menu": {
    "height": "30px",
    "width": "252px"
   },
   "navigate_menu": true,
   "number_sections": true,
   "sideBar": true,
   "threshold": 4,
   "toc_cell": false,
   "toc_section_display": "block",
   "toc_window_display": false,
   "widenNotebook": false
  }
 },
 "nbformat": 4,
 "nbformat_minor": 2
}
